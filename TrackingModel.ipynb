{
 "cells": [
  {
   "cell_type": "markdown",
   "metadata": {},
   "source": [
    "# Importing Needed Libraries"
   ]
  },
  {
   "cell_type": "code",
   "execution_count": 1,
   "metadata": {},
   "outputs": [],
   "source": [
    "import math\n",
    "import numpy as np\n",
    "import pandas as pd\n",
    "import seaborn as sns\n",
    "sns.set_style('whitegrid')\n",
    "import matplotlib.pyplot as plt\n",
    "plt.style.use(\"fivethirtyeight\")\n",
    "\n",
    "import keras\n",
    "from keras.models import Sequential\n",
    "from keras.callbacks import EarlyStopping ,ReduceLROnPlateau  \n",
    "from keras.layers import Dense, LSTM, Dropout\n",
    "\n",
    "from sklearn.preprocessing import MinMaxScaler\n",
    "from sklearn.model_selection import train_test_split\n",
    "from sklearn.metrics import mean_squared_error, mean_absolute_error\n",
    "from tensorflow.keras.callbacks import LearningRateScheduler  \n",
    "from sklearn.model_selection import KFold  "
   ]
  },
  {
   "cell_type": "markdown",
   "metadata": {},
   "source": [
    "# Reading The Data"
   ]
  },
  {
   "cell_type": "code",
   "execution_count": 2,
   "metadata": {},
   "outputs": [
    {
     "data": {
      "text/html": [
       "<div>\n",
       "<style scoped>\n",
       "    .dataframe tbody tr th:only-of-type {\n",
       "        vertical-align: middle;\n",
       "    }\n",
       "\n",
       "    .dataframe tbody tr th {\n",
       "        vertical-align: top;\n",
       "    }\n",
       "\n",
       "    .dataframe thead th {\n",
       "        text-align: right;\n",
       "    }\n",
       "</style>\n",
       "<table border=\"1\" class=\"dataframe\">\n",
       "  <thead>\n",
       "    <tr style=\"text-align: right;\">\n",
       "      <th></th>\n",
       "      <th>id</th>\n",
       "      <th>date</th>\n",
       "      <th>time</th>\n",
       "      <th>code</th>\n",
       "      <th>value</th>\n",
       "    </tr>\n",
       "  </thead>\n",
       "  <tbody>\n",
       "    <tr>\n",
       "      <th>0</th>\n",
       "      <td>1</td>\n",
       "      <td>04-21-1991</td>\n",
       "      <td>9:09</td>\n",
       "      <td>58</td>\n",
       "      <td>100</td>\n",
       "    </tr>\n",
       "    <tr>\n",
       "      <th>1</th>\n",
       "      <td>1</td>\n",
       "      <td>04-21-1991</td>\n",
       "      <td>9:09</td>\n",
       "      <td>33</td>\n",
       "      <td>009</td>\n",
       "    </tr>\n",
       "    <tr>\n",
       "      <th>2</th>\n",
       "      <td>1</td>\n",
       "      <td>04-21-1991</td>\n",
       "      <td>9:09</td>\n",
       "      <td>34</td>\n",
       "      <td>013</td>\n",
       "    </tr>\n",
       "    <tr>\n",
       "      <th>3</th>\n",
       "      <td>1</td>\n",
       "      <td>04-21-1991</td>\n",
       "      <td>17:08</td>\n",
       "      <td>62</td>\n",
       "      <td>119</td>\n",
       "    </tr>\n",
       "    <tr>\n",
       "      <th>4</th>\n",
       "      <td>1</td>\n",
       "      <td>04-21-1991</td>\n",
       "      <td>17:08</td>\n",
       "      <td>33</td>\n",
       "      <td>007</td>\n",
       "    </tr>\n",
       "    <tr>\n",
       "      <th>...</th>\n",
       "      <td>...</td>\n",
       "      <td>...</td>\n",
       "      <td>...</td>\n",
       "      <td>...</td>\n",
       "      <td>...</td>\n",
       "    </tr>\n",
       "    <tr>\n",
       "      <th>29325</th>\n",
       "      <td>70</td>\n",
       "      <td>05-09-1989</td>\n",
       "      <td>08:00</td>\n",
       "      <td>33</td>\n",
       "      <td>001</td>\n",
       "    </tr>\n",
       "    <tr>\n",
       "      <th>29326</th>\n",
       "      <td>70</td>\n",
       "      <td>05-09-1989</td>\n",
       "      <td>08:00</td>\n",
       "      <td>34</td>\n",
       "      <td>007</td>\n",
       "    </tr>\n",
       "    <tr>\n",
       "      <th>29327</th>\n",
       "      <td>70</td>\n",
       "      <td>05-10-1989</td>\n",
       "      <td>08:00</td>\n",
       "      <td>34</td>\n",
       "      <td>007</td>\n",
       "    </tr>\n",
       "    <tr>\n",
       "      <th>29328</th>\n",
       "      <td>70</td>\n",
       "      <td>05-11-1989</td>\n",
       "      <td>08:00</td>\n",
       "      <td>34</td>\n",
       "      <td>007</td>\n",
       "    </tr>\n",
       "    <tr>\n",
       "      <th>29329</th>\n",
       "      <td>70</td>\n",
       "      <td>05-12-1989</td>\n",
       "      <td>08:00</td>\n",
       "      <td>34</td>\n",
       "      <td>007</td>\n",
       "    </tr>\n",
       "  </tbody>\n",
       "</table>\n",
       "<p>29330 rows × 5 columns</p>\n",
       "</div>"
      ],
      "text/plain": [
       "       id        date   time  code value\n",
       "0       1  04-21-1991   9:09    58   100\n",
       "1       1  04-21-1991   9:09    33   009\n",
       "2       1  04-21-1991   9:09    34   013\n",
       "3       1  04-21-1991  17:08    62   119\n",
       "4       1  04-21-1991  17:08    33   007\n",
       "...    ..         ...    ...   ...   ...\n",
       "29325  70  05-09-1989  08:00    33   001\n",
       "29326  70  05-09-1989  08:00    34   007\n",
       "29327  70  05-10-1989  08:00    34   007\n",
       "29328  70  05-11-1989  08:00    34   007\n",
       "29329  70  05-12-1989  08:00    34   007\n",
       "\n",
       "[29330 rows x 5 columns]"
      ]
     },
     "execution_count": 2,
     "metadata": {},
     "output_type": "execute_result"
    }
   ],
   "source": [
    "df= pd.read_table(\"C:\\\\Users\\\\Hp\\\\Downloads\\\\diabetes.txt\", names = ['id', 'date', 'time', 'code', 'value'])\n",
    "df"
   ]
  },
  {
   "cell_type": "markdown",
   "metadata": {},
   "source": [
    "# 2. Preprocess the Data"
   ]
  },
  {
   "cell_type": "markdown",
   "metadata": {},
   "source": [
    "## a.Filter and Clean Data"
   ]
  },
  {
   "cell_type": "code",
   "execution_count": 3,
   "metadata": {},
   "outputs": [
    {
     "data": {
      "text/plain": [
       "id        int64\n",
       "date     object\n",
       "time     object\n",
       "code      int64\n",
       "value    object\n",
       "dtype: object"
      ]
     },
     "execution_count": 3,
     "metadata": {},
     "output_type": "execute_result"
    }
   ],
   "source": [
    "df.dtypes"
   ]
  },
  {
   "cell_type": "markdown",
   "metadata": {},
   "source": [
    "###\n",
    "Cannot convert values to_numeric() here because some of them are things like \"hi\" and \"lo\". Need to filter down to blood glucose measurements first.\n",
    "\n",
    "Key to code fields below. Note that we have categorical variables in this dataset (hypoglycemic symptoms, etc.). The Code field is deciphered as follows:\n",
    "\n",
    "33 = Regular insulin dose\n",
    "\n",
    "34 = NPH insulin dose\n",
    "\n",
    "35 = UltraLente insulin dose\n",
    "\n",
    "48 = Unspecified blood glucose measurement\n",
    "\n",
    "57 = Unspecified blood glucose measurement\n",
    "\n",
    "58 = Pre-breakfast blood glucose measurement\n",
    "\n",
    "59 = Post-breakfast blood glucose measurement\n",
    "\n",
    "60 = Pre-lunch blood glucose measurement\n",
    "\n",
    "61 = Post-lunch blood glucose measurement\n",
    "\n",
    "62 = Pre-supper blood glucose measurement\n",
    "\n",
    "63 = Post-supper blood glucose measurement\n",
    "\n",
    "64 = Pre-snack blood glucose measurement\n",
    "\n",
    "65 = Hypoglycemic symptoms\n",
    "\n",
    "66 = Typical meal ingestion\n",
    "\n",
    "67 = More-than-usual meal ingestion\n",
    "\n",
    "68 = Less-than-usual meal ingestion\n",
    "\n",
    "69 = Typical exercise activity\n",
    "\n",
    "70 = More-than-usual exercise activity\n",
    "\n",
    "71 = Less-than-usual exercise activity\n",
    "\n",
    "72 = Unspecified special event"
   ]
  },
  {
   "cell_type": "markdown",
   "metadata": {},
   "source": [
    "### Filter down to blood glucose measurements only."
   ]
  },
  {
   "cell_type": "code",
   "execution_count": 4,
   "metadata": {},
   "outputs": [
    {
     "data": {
      "text/html": [
       "<div>\n",
       "<style scoped>\n",
       "    .dataframe tbody tr th:only-of-type {\n",
       "        vertical-align: middle;\n",
       "    }\n",
       "\n",
       "    .dataframe tbody tr th {\n",
       "        vertical-align: top;\n",
       "    }\n",
       "\n",
       "    .dataframe thead th {\n",
       "        text-align: right;\n",
       "    }\n",
       "</style>\n",
       "<table border=\"1\" class=\"dataframe\">\n",
       "  <thead>\n",
       "    <tr style=\"text-align: right;\">\n",
       "      <th></th>\n",
       "      <th>id</th>\n",
       "      <th>date</th>\n",
       "      <th>time</th>\n",
       "      <th>code</th>\n",
       "      <th>value</th>\n",
       "    </tr>\n",
       "  </thead>\n",
       "  <tbody>\n",
       "    <tr>\n",
       "      <th>0</th>\n",
       "      <td>1</td>\n",
       "      <td>04-21-1991</td>\n",
       "      <td>9:09</td>\n",
       "      <td>58</td>\n",
       "      <td>100</td>\n",
       "    </tr>\n",
       "    <tr>\n",
       "      <th>3</th>\n",
       "      <td>1</td>\n",
       "      <td>04-21-1991</td>\n",
       "      <td>17:08</td>\n",
       "      <td>62</td>\n",
       "      <td>119</td>\n",
       "    </tr>\n",
       "    <tr>\n",
       "      <th>6</th>\n",
       "      <td>1</td>\n",
       "      <td>04-22-1991</td>\n",
       "      <td>7:35</td>\n",
       "      <td>58</td>\n",
       "      <td>216</td>\n",
       "    </tr>\n",
       "    <tr>\n",
       "      <th>10</th>\n",
       "      <td>1</td>\n",
       "      <td>04-22-1991</td>\n",
       "      <td>16:56</td>\n",
       "      <td>62</td>\n",
       "      <td>211</td>\n",
       "    </tr>\n",
       "    <tr>\n",
       "      <th>12</th>\n",
       "      <td>1</td>\n",
       "      <td>04-23-1991</td>\n",
       "      <td>7:25</td>\n",
       "      <td>58</td>\n",
       "      <td>257</td>\n",
       "    </tr>\n",
       "  </tbody>\n",
       "</table>\n",
       "</div>"
      ],
      "text/plain": [
       "    id        date   time  code value\n",
       "0    1  04-21-1991   9:09    58   100\n",
       "3    1  04-21-1991  17:08    62   119\n",
       "6    1  04-22-1991   7:35    58   216\n",
       "10   1  04-22-1991  16:56    62   211\n",
       "12   1  04-23-1991   7:25    58   257"
      ]
     },
     "execution_count": 4,
     "metadata": {},
     "output_type": "execute_result"
    }
   ],
   "source": [
    "blood_glucose = df[(df['code'] >= 58) & (df['code'] <= 68)]\n",
    "blood_glucose.head()"
   ]
  },
  {
   "cell_type": "code",
   "execution_count": 5,
   "metadata": {},
   "outputs": [
    {
     "name": "stderr",
     "output_type": "stream",
     "text": [
      "C:\\Users\\Hp\\AppData\\Local\\Temp\\ipykernel_12864\\24648204.py:2: SettingWithCopyWarning: \n",
      "A value is trying to be set on a copy of a slice from a DataFrame.\n",
      "Try using .loc[row_indexer,col_indexer] = value instead\n",
      "\n",
      "See the caveats in the documentation: https://pandas.pydata.org/pandas-docs/stable/user_guide/indexing.html#returning-a-view-versus-a-copy\n",
      "  blood_glucose['value'] = pd.to_numeric(blood_glucose['value'], errors='coerce')\n"
     ]
    }
   ],
   "source": [
    "# Convert 'value' to numeric, handle non-numeric values as NaN\n",
    "blood_glucose['value'] = pd.to_numeric(blood_glucose['value'], errors='coerce')"
   ]
  },
  {
   "cell_type": "code",
   "execution_count": 6,
   "metadata": {},
   "outputs": [],
   "source": [
    "blood_glucose = blood_glucose[blood_glucose['value'].notnull()]"
   ]
  },
  {
   "cell_type": "code",
   "execution_count": 7,
   "metadata": {},
   "outputs": [],
   "source": [
    "meal_context_map = {\n",
    "    58: 'pre_breakfast', 59: 'post_breakfast',\n",
    "    60: 'pre_lunch', 61: 'post_lunch',\n",
    "    62: 'pre_supper', 63: 'post_supper',\n",
    "    64: 'pre_snack', 65: 'hypoglycemic_symptoms',\n",
    "    66: 'typical_meal', 67: 'large_meal', 68: 'small_meal'\n",
    "}\n",
    "\n",
    "# Add meal context column\n",
    "blood_glucose['meal_context'] = blood_glucose['code'].map(meal_context_map)"
   ]
  },
  {
   "cell_type": "code",
   "execution_count": 8,
   "metadata": {},
   "outputs": [
    {
     "name": "stdout",
     "output_type": "stream",
     "text": [
      "       id        date    time  code  value   meal_context datetime\n",
      "6505   20  06-31-1991   07:50    58  149.0  pre_breakfast      NaT\n",
      "6508   20  06-31-1991   13:30    60  162.0      pre_lunch      NaT\n",
      "6510   20  06-31-1991   19:45    62  213.0     pre_supper      NaT\n",
      "28070  67  04-09-1991   56:35    58  237.0  pre_breakfast      NaT\n",
      "28171  67  04-21-1991  188:00    62  128.0     pre_supper      NaT\n"
     ]
    },
    {
     "data": {
      "text/html": [
       "<div>\n",
       "<style scoped>\n",
       "    .dataframe tbody tr th:only-of-type {\n",
       "        vertical-align: middle;\n",
       "    }\n",
       "\n",
       "    .dataframe tbody tr th {\n",
       "        vertical-align: top;\n",
       "    }\n",
       "\n",
       "    .dataframe thead th {\n",
       "        text-align: right;\n",
       "    }\n",
       "</style>\n",
       "<table border=\"1\" class=\"dataframe\">\n",
       "  <thead>\n",
       "    <tr style=\"text-align: right;\">\n",
       "      <th></th>\n",
       "      <th>id</th>\n",
       "      <th>date</th>\n",
       "      <th>time</th>\n",
       "      <th>code</th>\n",
       "      <th>value</th>\n",
       "      <th>meal_context</th>\n",
       "      <th>datetime</th>\n",
       "    </tr>\n",
       "  </thead>\n",
       "  <tbody>\n",
       "    <tr>\n",
       "      <th>0</th>\n",
       "      <td>1</td>\n",
       "      <td>04-21-1991</td>\n",
       "      <td>9:09</td>\n",
       "      <td>58</td>\n",
       "      <td>100.0</td>\n",
       "      <td>pre_breakfast</td>\n",
       "      <td>1991-04-21 09:09:00</td>\n",
       "    </tr>\n",
       "    <tr>\n",
       "      <th>3</th>\n",
       "      <td>1</td>\n",
       "      <td>04-21-1991</td>\n",
       "      <td>17:08</td>\n",
       "      <td>62</td>\n",
       "      <td>119.0</td>\n",
       "      <td>pre_supper</td>\n",
       "      <td>1991-04-21 17:08:00</td>\n",
       "    </tr>\n",
       "    <tr>\n",
       "      <th>6</th>\n",
       "      <td>1</td>\n",
       "      <td>04-22-1991</td>\n",
       "      <td>7:35</td>\n",
       "      <td>58</td>\n",
       "      <td>216.0</td>\n",
       "      <td>pre_breakfast</td>\n",
       "      <td>1991-04-22 07:35:00</td>\n",
       "    </tr>\n",
       "    <tr>\n",
       "      <th>10</th>\n",
       "      <td>1</td>\n",
       "      <td>04-22-1991</td>\n",
       "      <td>16:56</td>\n",
       "      <td>62</td>\n",
       "      <td>211.0</td>\n",
       "      <td>pre_supper</td>\n",
       "      <td>1991-04-22 16:56:00</td>\n",
       "    </tr>\n",
       "    <tr>\n",
       "      <th>12</th>\n",
       "      <td>1</td>\n",
       "      <td>04-23-1991</td>\n",
       "      <td>7:25</td>\n",
       "      <td>58</td>\n",
       "      <td>257.0</td>\n",
       "      <td>pre_breakfast</td>\n",
       "      <td>1991-04-23 07:25:00</td>\n",
       "    </tr>\n",
       "    <tr>\n",
       "      <th>...</th>\n",
       "      <td>...</td>\n",
       "      <td>...</td>\n",
       "      <td>...</td>\n",
       "      <td>...</td>\n",
       "      <td>...</td>\n",
       "      <td>...</td>\n",
       "      <td>...</td>\n",
       "    </tr>\n",
       "    <tr>\n",
       "      <th>29302</th>\n",
       "      <td>70</td>\n",
       "      <td>05-05-1989</td>\n",
       "      <td>08:00</td>\n",
       "      <td>58</td>\n",
       "      <td>134.0</td>\n",
       "      <td>pre_breakfast</td>\n",
       "      <td>1989-05-05 08:00:00</td>\n",
       "    </tr>\n",
       "    <tr>\n",
       "      <th>29309</th>\n",
       "      <td>70</td>\n",
       "      <td>05-06-1989</td>\n",
       "      <td>18:00</td>\n",
       "      <td>62</td>\n",
       "      <td>378.0</td>\n",
       "      <td>pre_supper</td>\n",
       "      <td>1989-05-06 18:00:00</td>\n",
       "    </tr>\n",
       "    <tr>\n",
       "      <th>29314</th>\n",
       "      <td>70</td>\n",
       "      <td>05-07-1989</td>\n",
       "      <td>12:00</td>\n",
       "      <td>60</td>\n",
       "      <td>151.0</td>\n",
       "      <td>pre_lunch</td>\n",
       "      <td>1989-05-07 12:00:00</td>\n",
       "    </tr>\n",
       "    <tr>\n",
       "      <th>29318</th>\n",
       "      <td>70</td>\n",
       "      <td>05-08-1989</td>\n",
       "      <td>08:00</td>\n",
       "      <td>58</td>\n",
       "      <td>248.0</td>\n",
       "      <td>pre_breakfast</td>\n",
       "      <td>1989-05-08 08:00:00</td>\n",
       "    </tr>\n",
       "    <tr>\n",
       "      <th>29324</th>\n",
       "      <td>70</td>\n",
       "      <td>05-09-1989</td>\n",
       "      <td>08:00</td>\n",
       "      <td>58</td>\n",
       "      <td>259.0</td>\n",
       "      <td>pre_breakfast</td>\n",
       "      <td>1989-05-09 08:00:00</td>\n",
       "    </tr>\n",
       "  </tbody>\n",
       "</table>\n",
       "<p>11498 rows × 7 columns</p>\n",
       "</div>"
      ],
      "text/plain": [
       "       id        date   time  code  value   meal_context            datetime\n",
       "0       1  04-21-1991   9:09    58  100.0  pre_breakfast 1991-04-21 09:09:00\n",
       "3       1  04-21-1991  17:08    62  119.0     pre_supper 1991-04-21 17:08:00\n",
       "6       1  04-22-1991   7:35    58  216.0  pre_breakfast 1991-04-22 07:35:00\n",
       "10      1  04-22-1991  16:56    62  211.0     pre_supper 1991-04-22 16:56:00\n",
       "12      1  04-23-1991   7:25    58  257.0  pre_breakfast 1991-04-23 07:25:00\n",
       "...    ..         ...    ...   ...    ...            ...                 ...\n",
       "29302  70  05-05-1989  08:00    58  134.0  pre_breakfast 1989-05-05 08:00:00\n",
       "29309  70  05-06-1989  18:00    62  378.0     pre_supper 1989-05-06 18:00:00\n",
       "29314  70  05-07-1989  12:00    60  151.0      pre_lunch 1989-05-07 12:00:00\n",
       "29318  70  05-08-1989  08:00    58  248.0  pre_breakfast 1989-05-08 08:00:00\n",
       "29324  70  05-09-1989  08:00    58  259.0  pre_breakfast 1989-05-09 08:00:00\n",
       "\n",
       "[11498 rows x 7 columns]"
      ]
     },
     "execution_count": 8,
     "metadata": {},
     "output_type": "execute_result"
    }
   ],
   "source": [
    "# Step 1: Combine 'date' and 'time' into a single 'datetime' column without specifying format\n",
    "blood_glucose['datetime'] = pd.to_datetime(\n",
    "    blood_glucose['date'] + ' ' + blood_glucose['time'], errors='coerce'\n",
    ")\n",
    "\n",
    "# Check for any failed conversions\n",
    "print(blood_glucose[blood_glucose['datetime'].isna()])\n",
    "\n",
    "# # Step 2: Extract the hour from the 'datetime' column\n",
    "# blood_glucose['hour'] = blood_glucose['datetime'].dt.hour\n",
    "blood_glucose"
   ]
  },
  {
   "cell_type": "code",
   "execution_count": 9,
   "metadata": {},
   "outputs": [
    {
     "name": "stdout",
     "output_type": "stream",
     "text": [
      "Missing values:\n",
      "id                  0\n",
      "date                0\n",
      "time                0\n",
      "code                0\n",
      "value               0\n",
      "meal_context        0\n",
      "datetime            5\n",
      "classification      0\n",
      "time_since_start    5\n",
      "event               0\n",
      "dtype: int64\n",
      "              datetime  value  code classification  time_since_start  event\n",
      "0  1991-04-21 09:09:00  100.0    58         Normal      26881.150000      0\n",
      "3  1991-04-21 17:08:00  119.0    62         Normal      26889.133333      0\n",
      "6  1991-04-22 07:35:00  216.0    58      Dangerous      26903.583333      1\n",
      "10 1991-04-22 16:56:00  211.0    62      Dangerous      26912.933333      1\n",
      "12 1991-04-23 07:25:00  257.0    58      Dangerous      26927.416667      1\n"
     ]
    },
    {
     "name": "stderr",
     "output_type": "stream",
     "text": [
      "C:\\Users\\Hp\\AppData\\Local\\Temp\\ipykernel_12864\\603743617.py:40: FutureWarning: DataFrame.fillna with 'method' is deprecated and will raise in a future version. Use obj.ffill() or obj.bfill() instead.\n",
      "  blood_glucose = blood_glucose.fillna(method='ffill')  # Example of forward fill\n"
     ]
    }
   ],
   "source": [
    "# Vectorized classification\n",
    "conditions = [\n",
    "    # Post-meal\n",
    "    (blood_glucose['code'].isin([59, 61, 63]) & (blood_glucose['value'] >= 300)),\n",
    "    (blood_glucose['code'].isin([59, 61, 63]) & (140 <= blood_glucose['value']) & (blood_glucose['value'] <= 220)),\n",
    "    (blood_glucose['code'].isin([59, 61, 63]) & (90 <= blood_glucose['value']) & (blood_glucose['value'] < 140)),\n",
    "    (blood_glucose['code'].isin([59, 61, 63]) & (80 <= blood_glucose['value']) & (blood_glucose['value'] < 90)),\n",
    "    # Pre-meal\n",
    "    (blood_glucose['code'].isin([58, 60, 62]) & (blood_glucose['value'] >= 200)),\n",
    "    (blood_glucose['code'].isin([58, 60, 62]) & (130 <= blood_glucose['value']) & (blood_glucose['value'] < 200)),\n",
    "    (blood_glucose['code'].isin([58, 60, 62]) & (90 <= blood_glucose['value']) & (blood_glucose['value'] < 130)),\n",
    "    (blood_glucose['code'].isin([58, 60, 62]) & (70 <= blood_glucose['value']) & (blood_glucose['value'] < 90)),\n",
    "    # Longer durations\n",
    "    (blood_glucose['code'].isin([64, 66, 67, 68]) & (blood_glucose['value'] >= 180)),\n",
    "    (blood_glucose['code'].isin([64, 66, 67, 68]) & (120 <= blood_glucose['value']) & (blood_glucose['value'] < 180)),\n",
    "    (blood_glucose['code'].isin([64, 66, 67, 68]) & (80 <= blood_glucose['value']) & (blood_glucose['value'] < 120)),\n",
    "    (blood_glucose['code'].isin([64, 66, 67, 68]) & (60 <= blood_glucose['value']) & (blood_glucose['value'] < 80)),\n",
    "]\n",
    "\n",
    "choices = [\n",
    "    'Dangerous', 'High', 'Normal', 'Low',\n",
    "    'Dangerous', 'High', 'Normal', 'Low',\n",
    "    'Dangerous', 'High', 'Normal', 'Low'\n",
    "]\n",
    "\n",
    "blood_glucose['classification'] = np.select(conditions, choices, default='Dangerous')\n",
    "\n",
    "# Duration calculation\n",
    "blood_glucose['time_since_start'] = (blood_glucose['datetime'] - blood_glucose['datetime'].min()).dt.total_seconds() / 3600\n",
    "\n",
    "# Event detection\n",
    "threshold = 180  # Define your threshold\n",
    "blood_glucose['event'] = (blood_glucose['value'] >= threshold).astype(int)\n",
    "\n",
    "# Check for missing values\n",
    "print(\"Missing values:\")\n",
    "print(blood_glucose.isnull().sum())\n",
    "\n",
    "# Handle missing data by filling or interpolating if necessary\n",
    "blood_glucose = blood_glucose.fillna(method='ffill')  # Example of forward fill\n",
    "\n",
    "# Display key results\n",
    "print(blood_glucose[['datetime', 'value', 'code', 'classification', 'time_since_start', 'event']].head())\n"
   ]
  },
  {
   "cell_type": "code",
   "execution_count": 10,
   "metadata": {},
   "outputs": [
    {
     "name": "stdout",
     "output_type": "stream",
     "text": [
      "Remaining missing values:\n",
      "id                  0\n",
      "date                0\n",
      "time                0\n",
      "code                0\n",
      "value               0\n",
      "meal_context        0\n",
      "datetime            0\n",
      "classification      0\n",
      "time_since_start    0\n",
      "event               0\n",
      "dtype: int64\n"
     ]
    }
   ],
   "source": [
    "# Fixing 'datetime' column\n",
    "# Forward-fill missing values\n",
    "blood_glucose['datetime'] = blood_glucose['datetime'].ffill()\n",
    "\n",
    "# Recompute 'time_since_start' after fixing 'datetime'\n",
    "blood_glucose['time_since_start'] = (blood_glucose['datetime'] - blood_glucose['datetime'].min()).dt.total_seconds() / 3600\n",
    "\n",
    "\n",
    "\n",
    "\n",
    "# Final check for any remaining NaNs\n",
    "print(\"Remaining missing values:\")\n",
    "print(blood_glucose.isnull().sum())\n"
   ]
  },
  {
   "cell_type": "code",
   "execution_count": 11,
   "metadata": {},
   "outputs": [
    {
     "data": {
      "text/html": [
       "<div>\n",
       "<style scoped>\n",
       "    .dataframe tbody tr th:only-of-type {\n",
       "        vertical-align: middle;\n",
       "    }\n",
       "\n",
       "    .dataframe tbody tr th {\n",
       "        vertical-align: top;\n",
       "    }\n",
       "\n",
       "    .dataframe thead th {\n",
       "        text-align: right;\n",
       "    }\n",
       "</style>\n",
       "<table border=\"1\" class=\"dataframe\">\n",
       "  <thead>\n",
       "    <tr style=\"text-align: right;\">\n",
       "      <th></th>\n",
       "      <th>id</th>\n",
       "      <th>date</th>\n",
       "      <th>time</th>\n",
       "      <th>code</th>\n",
       "      <th>value</th>\n",
       "      <th>meal_context</th>\n",
       "      <th>classification</th>\n",
       "      <th>time_since_start</th>\n",
       "      <th>event</th>\n",
       "    </tr>\n",
       "    <tr>\n",
       "      <th>datetime</th>\n",
       "      <th></th>\n",
       "      <th></th>\n",
       "      <th></th>\n",
       "      <th></th>\n",
       "      <th></th>\n",
       "      <th></th>\n",
       "      <th></th>\n",
       "      <th></th>\n",
       "      <th></th>\n",
       "    </tr>\n",
       "  </thead>\n",
       "  <tbody>\n",
       "    <tr>\n",
       "      <th>1991-04-21 09:09:00</th>\n",
       "      <td>1</td>\n",
       "      <td>04-21-1991</td>\n",
       "      <td>9:09</td>\n",
       "      <td>58</td>\n",
       "      <td>100.0</td>\n",
       "      <td>pre_breakfast</td>\n",
       "      <td>Normal</td>\n",
       "      <td>26881.150000</td>\n",
       "      <td>0</td>\n",
       "    </tr>\n",
       "    <tr>\n",
       "      <th>1991-04-21 17:08:00</th>\n",
       "      <td>1</td>\n",
       "      <td>04-21-1991</td>\n",
       "      <td>17:08</td>\n",
       "      <td>62</td>\n",
       "      <td>119.0</td>\n",
       "      <td>pre_supper</td>\n",
       "      <td>Normal</td>\n",
       "      <td>26889.133333</td>\n",
       "      <td>0</td>\n",
       "    </tr>\n",
       "    <tr>\n",
       "      <th>1991-04-22 07:35:00</th>\n",
       "      <td>1</td>\n",
       "      <td>04-22-1991</td>\n",
       "      <td>7:35</td>\n",
       "      <td>58</td>\n",
       "      <td>216.0</td>\n",
       "      <td>pre_breakfast</td>\n",
       "      <td>Dangerous</td>\n",
       "      <td>26903.583333</td>\n",
       "      <td>1</td>\n",
       "    </tr>\n",
       "    <tr>\n",
       "      <th>1991-04-22 16:56:00</th>\n",
       "      <td>1</td>\n",
       "      <td>04-22-1991</td>\n",
       "      <td>16:56</td>\n",
       "      <td>62</td>\n",
       "      <td>211.0</td>\n",
       "      <td>pre_supper</td>\n",
       "      <td>Dangerous</td>\n",
       "      <td>26912.933333</td>\n",
       "      <td>1</td>\n",
       "    </tr>\n",
       "    <tr>\n",
       "      <th>1991-04-23 07:25:00</th>\n",
       "      <td>1</td>\n",
       "      <td>04-23-1991</td>\n",
       "      <td>7:25</td>\n",
       "      <td>58</td>\n",
       "      <td>257.0</td>\n",
       "      <td>pre_breakfast</td>\n",
       "      <td>Dangerous</td>\n",
       "      <td>26927.416667</td>\n",
       "      <td>1</td>\n",
       "    </tr>\n",
       "    <tr>\n",
       "      <th>...</th>\n",
       "      <td>...</td>\n",
       "      <td>...</td>\n",
       "      <td>...</td>\n",
       "      <td>...</td>\n",
       "      <td>...</td>\n",
       "      <td>...</td>\n",
       "      <td>...</td>\n",
       "      <td>...</td>\n",
       "      <td>...</td>\n",
       "    </tr>\n",
       "    <tr>\n",
       "      <th>1989-05-05 08:00:00</th>\n",
       "      <td>70</td>\n",
       "      <td>05-05-1989</td>\n",
       "      <td>08:00</td>\n",
       "      <td>58</td>\n",
       "      <td>134.0</td>\n",
       "      <td>pre_breakfast</td>\n",
       "      <td>High</td>\n",
       "      <td>9696.000000</td>\n",
       "      <td>0</td>\n",
       "    </tr>\n",
       "    <tr>\n",
       "      <th>1989-05-06 18:00:00</th>\n",
       "      <td>70</td>\n",
       "      <td>05-06-1989</td>\n",
       "      <td>18:00</td>\n",
       "      <td>62</td>\n",
       "      <td>378.0</td>\n",
       "      <td>pre_supper</td>\n",
       "      <td>Dangerous</td>\n",
       "      <td>9730.000000</td>\n",
       "      <td>1</td>\n",
       "    </tr>\n",
       "    <tr>\n",
       "      <th>1989-05-07 12:00:00</th>\n",
       "      <td>70</td>\n",
       "      <td>05-07-1989</td>\n",
       "      <td>12:00</td>\n",
       "      <td>60</td>\n",
       "      <td>151.0</td>\n",
       "      <td>pre_lunch</td>\n",
       "      <td>High</td>\n",
       "      <td>9748.000000</td>\n",
       "      <td>0</td>\n",
       "    </tr>\n",
       "    <tr>\n",
       "      <th>1989-05-08 08:00:00</th>\n",
       "      <td>70</td>\n",
       "      <td>05-08-1989</td>\n",
       "      <td>08:00</td>\n",
       "      <td>58</td>\n",
       "      <td>248.0</td>\n",
       "      <td>pre_breakfast</td>\n",
       "      <td>Dangerous</td>\n",
       "      <td>9768.000000</td>\n",
       "      <td>1</td>\n",
       "    </tr>\n",
       "    <tr>\n",
       "      <th>1989-05-09 08:00:00</th>\n",
       "      <td>70</td>\n",
       "      <td>05-09-1989</td>\n",
       "      <td>08:00</td>\n",
       "      <td>58</td>\n",
       "      <td>259.0</td>\n",
       "      <td>pre_breakfast</td>\n",
       "      <td>Dangerous</td>\n",
       "      <td>9792.000000</td>\n",
       "      <td>1</td>\n",
       "    </tr>\n",
       "  </tbody>\n",
       "</table>\n",
       "<p>11498 rows × 9 columns</p>\n",
       "</div>"
      ],
      "text/plain": [
       "                     id        date   time  code  value   meal_context  \\\n",
       "datetime                                                                 \n",
       "1991-04-21 09:09:00   1  04-21-1991   9:09    58  100.0  pre_breakfast   \n",
       "1991-04-21 17:08:00   1  04-21-1991  17:08    62  119.0     pre_supper   \n",
       "1991-04-22 07:35:00   1  04-22-1991   7:35    58  216.0  pre_breakfast   \n",
       "1991-04-22 16:56:00   1  04-22-1991  16:56    62  211.0     pre_supper   \n",
       "1991-04-23 07:25:00   1  04-23-1991   7:25    58  257.0  pre_breakfast   \n",
       "...                  ..         ...    ...   ...    ...            ...   \n",
       "1989-05-05 08:00:00  70  05-05-1989  08:00    58  134.0  pre_breakfast   \n",
       "1989-05-06 18:00:00  70  05-06-1989  18:00    62  378.0     pre_supper   \n",
       "1989-05-07 12:00:00  70  05-07-1989  12:00    60  151.0      pre_lunch   \n",
       "1989-05-08 08:00:00  70  05-08-1989  08:00    58  248.0  pre_breakfast   \n",
       "1989-05-09 08:00:00  70  05-09-1989  08:00    58  259.0  pre_breakfast   \n",
       "\n",
       "                    classification  time_since_start  event  \n",
       "datetime                                                     \n",
       "1991-04-21 09:09:00         Normal      26881.150000      0  \n",
       "1991-04-21 17:08:00         Normal      26889.133333      0  \n",
       "1991-04-22 07:35:00      Dangerous      26903.583333      1  \n",
       "1991-04-22 16:56:00      Dangerous      26912.933333      1  \n",
       "1991-04-23 07:25:00      Dangerous      26927.416667      1  \n",
       "...                            ...               ...    ...  \n",
       "1989-05-05 08:00:00           High       9696.000000      0  \n",
       "1989-05-06 18:00:00      Dangerous       9730.000000      1  \n",
       "1989-05-07 12:00:00           High       9748.000000      0  \n",
       "1989-05-08 08:00:00      Dangerous       9768.000000      1  \n",
       "1989-05-09 08:00:00      Dangerous       9792.000000      1  \n",
       "\n",
       "[11498 rows x 9 columns]"
      ]
     },
     "execution_count": 11,
     "metadata": {},
     "output_type": "execute_result"
    }
   ],
   "source": [
    "blood_glucose = blood_glucose.set_index('datetime')\n",
    "blood_glucose"
   ]
  },
  {
   "cell_type": "code",
   "execution_count": 12,
   "metadata": {},
   "outputs": [],
   "source": [
    "blood_glucose=blood_glucose.drop(['date', 'time'], axis=1)"
   ]
  },
  {
   "cell_type": "code",
   "execution_count": 13,
   "metadata": {},
   "outputs": [
    {
     "data": {
      "text/html": [
       "<div>\n",
       "<style scoped>\n",
       "    .dataframe tbody tr th:only-of-type {\n",
       "        vertical-align: middle;\n",
       "    }\n",
       "\n",
       "    .dataframe tbody tr th {\n",
       "        vertical-align: top;\n",
       "    }\n",
       "\n",
       "    .dataframe thead th {\n",
       "        text-align: right;\n",
       "    }\n",
       "</style>\n",
       "<table border=\"1\" class=\"dataframe\">\n",
       "  <thead>\n",
       "    <tr style=\"text-align: right;\">\n",
       "      <th></th>\n",
       "      <th>id</th>\n",
       "      <th>code</th>\n",
       "      <th>value</th>\n",
       "      <th>meal_context</th>\n",
       "      <th>classification</th>\n",
       "      <th>time_since_start</th>\n",
       "      <th>event</th>\n",
       "    </tr>\n",
       "    <tr>\n",
       "      <th>datetime</th>\n",
       "      <th></th>\n",
       "      <th></th>\n",
       "      <th></th>\n",
       "      <th></th>\n",
       "      <th></th>\n",
       "      <th></th>\n",
       "      <th></th>\n",
       "    </tr>\n",
       "  </thead>\n",
       "  <tbody>\n",
       "    <tr>\n",
       "      <th>1991-04-21 09:09:00</th>\n",
       "      <td>1</td>\n",
       "      <td>58</td>\n",
       "      <td>100.0</td>\n",
       "      <td>pre_breakfast</td>\n",
       "      <td>Normal</td>\n",
       "      <td>26881.150000</td>\n",
       "      <td>0</td>\n",
       "    </tr>\n",
       "    <tr>\n",
       "      <th>1991-04-21 17:08:00</th>\n",
       "      <td>1</td>\n",
       "      <td>62</td>\n",
       "      <td>119.0</td>\n",
       "      <td>pre_supper</td>\n",
       "      <td>Normal</td>\n",
       "      <td>26889.133333</td>\n",
       "      <td>0</td>\n",
       "    </tr>\n",
       "    <tr>\n",
       "      <th>1991-04-22 07:35:00</th>\n",
       "      <td>1</td>\n",
       "      <td>58</td>\n",
       "      <td>216.0</td>\n",
       "      <td>pre_breakfast</td>\n",
       "      <td>Dangerous</td>\n",
       "      <td>26903.583333</td>\n",
       "      <td>1</td>\n",
       "    </tr>\n",
       "    <tr>\n",
       "      <th>1991-04-22 16:56:00</th>\n",
       "      <td>1</td>\n",
       "      <td>62</td>\n",
       "      <td>211.0</td>\n",
       "      <td>pre_supper</td>\n",
       "      <td>Dangerous</td>\n",
       "      <td>26912.933333</td>\n",
       "      <td>1</td>\n",
       "    </tr>\n",
       "    <tr>\n",
       "      <th>1991-04-23 07:25:00</th>\n",
       "      <td>1</td>\n",
       "      <td>58</td>\n",
       "      <td>257.0</td>\n",
       "      <td>pre_breakfast</td>\n",
       "      <td>Dangerous</td>\n",
       "      <td>26927.416667</td>\n",
       "      <td>1</td>\n",
       "    </tr>\n",
       "  </tbody>\n",
       "</table>\n",
       "</div>"
      ],
      "text/plain": [
       "                     id  code  value   meal_context classification  \\\n",
       "datetime                                                             \n",
       "1991-04-21 09:09:00   1    58  100.0  pre_breakfast         Normal   \n",
       "1991-04-21 17:08:00   1    62  119.0     pre_supper         Normal   \n",
       "1991-04-22 07:35:00   1    58  216.0  pre_breakfast      Dangerous   \n",
       "1991-04-22 16:56:00   1    62  211.0     pre_supper      Dangerous   \n",
       "1991-04-23 07:25:00   1    58  257.0  pre_breakfast      Dangerous   \n",
       "\n",
       "                     time_since_start  event  \n",
       "datetime                                      \n",
       "1991-04-21 09:09:00      26881.150000      0  \n",
       "1991-04-21 17:08:00      26889.133333      0  \n",
       "1991-04-22 07:35:00      26903.583333      1  \n",
       "1991-04-22 16:56:00      26912.933333      1  \n",
       "1991-04-23 07:25:00      26927.416667      1  "
      ]
     },
     "execution_count": 13,
     "metadata": {},
     "output_type": "execute_result"
    }
   ],
   "source": [
    "blood_glucose.head()"
   ]
  },
  {
   "cell_type": "markdown",
   "metadata": {},
   "source": [
    "### Choosing Prediction Column"
   ]
  },
  {
   "cell_type": "code",
   "execution_count": 14,
   "metadata": {},
   "outputs": [
    {
     "data": {
      "text/plain": [
       "(11498, 1)"
      ]
     },
     "execution_count": 14,
     "metadata": {},
     "output_type": "execute_result"
    }
   ],
   "source": [
    "dataset = blood_glucose[\"value\"]\n",
    "dataset = pd.DataFrame(dataset)\n",
    "\n",
    "data = dataset.values\n",
    "\n",
    "data.shape"
   ]
  },
  {
   "cell_type": "markdown",
   "metadata": {},
   "source": [
    "### Normalizing Data"
   ]
  },
  {
   "cell_type": "code",
   "execution_count": 15,
   "metadata": {},
   "outputs": [],
   "source": [
    "scaler = MinMaxScaler(feature_range= (0, 1))\n",
    "scaled_data = scaler.fit_transform(np.array(data).reshape(-1, 1))"
   ]
  },
  {
   "cell_type": "markdown",
   "metadata": {},
   "source": [
    "### Splitting the Data"
   ]
  },
  {
   "cell_type": "code",
   "execution_count": 16,
   "metadata": {},
   "outputs": [
    {
     "name": "stdout",
     "output_type": "stream",
     "text": [
      "Train Size : 8623 Test Size : 2875\n"
     ]
    }
   ],
   "source": [
    "# 75% to Train , 25% to Test\n",
    "train_size = int(len(data)*.75)\n",
    "test_size = len(data) - train_size\n",
    "\n",
    "print(\"Train Size :\",train_size,\"Test Size :\",test_size)\n",
    "\n",
    "train_data = scaled_data[ :train_size , 0:1 ]\n",
    "test_data = scaled_data[ train_size-7: , 0:1 ]"
   ]
  },
  {
   "cell_type": "code",
   "execution_count": 17,
   "metadata": {},
   "outputs": [
    {
     "data": {
      "text/plain": [
       "((8623, 1), (2882, 1))"
      ]
     },
     "execution_count": 17,
     "metadata": {},
     "output_type": "execute_result"
    }
   ],
   "source": [
    "train_data.shape, test_data.shape"
   ]
  },
  {
   "cell_type": "markdown",
   "metadata": {},
   "source": [
    "### Creating training set"
   ]
  },
  {
   "cell_type": "code",
   "execution_count": 18,
   "metadata": {},
   "outputs": [],
   "source": [
    "# Creating a Training set with 60 time-steps and 1 output\n",
    "x_train = []\n",
    "y_train = []\n",
    "\n",
    "for i in range(60, len(train_data)):\n",
    "    x_train.append(train_data[i-7:i, 0])\n",
    "    y_train.append(train_data[i, 0])"
   ]
  },
  {
   "cell_type": "code",
   "execution_count": 19,
   "metadata": {},
   "outputs": [],
   "source": [
    "# Convert to numpy array\n",
    "x_train, y_train = np.array(x_train), np.array(y_train)"
   ]
  },
  {
   "cell_type": "code",
   "execution_count": 20,
   "metadata": {},
   "outputs": [],
   "source": [
    "# Reshaping the input\n",
    "x_train = np.reshape(x_train, (x_train.shape[0], x_train.shape[1], 1))"
   ]
  },
  {
   "cell_type": "code",
   "execution_count": 21,
   "metadata": {},
   "outputs": [
    {
     "data": {
      "text/plain": [
       "((8563, 7, 1), (8563,))"
      ]
     },
     "execution_count": 21,
     "metadata": {},
     "output_type": "execute_result"
    }
   ],
   "source": [
    "x_train.shape , y_train.shape"
   ]
  },
  {
   "cell_type": "markdown",
   "metadata": {},
   "source": [
    "#  GRUs & LSTM Model"
   ]
  },
  {
   "cell_type": "code",
   "execution_count": 22,
   "metadata": {},
   "outputs": [
    {
     "name": "stdout",
     "output_type": "stream",
     "text": [
      "Model: \"sequential\"\n",
      "_________________________________________________________________\n",
      " Layer (type)                Output Shape              Param #   \n",
      "=================================================================\n",
      " gru (GRU)                   (None, 7, 100)            30900     \n",
      "                                                                 \n",
      " dropout (Dropout)           (None, 7, 100)            0         \n",
      "                                                                 \n",
      " lstm (LSTM)                 (None, 7, 100)            80400     \n",
      "                                                                 \n",
      " dropout_1 (Dropout)         (None, 7, 100)            0         \n",
      "                                                                 \n",
      " gru_1 (GRU)                 (None, 70)                36120     \n",
      "                                                                 \n",
      " dropout_2 (Dropout)         (None, 70)                0         \n",
      "                                                                 \n",
      " dense (Dense)               (None, 1)                 71        \n",
      "                                                                 \n",
      "=================================================================\n",
      "Total params: 147,491\n",
      "Trainable params: 147,491\n",
      "Non-trainable params: 0\n",
      "_________________________________________________________________\n"
     ]
    }
   ],
   "source": [
    "from tensorflow.keras.layers import GRU, Dense, Dropout  \n",
    "\n",
    "# Define the Model with Both GRU and LSTM  \n",
    "def create_model():  \n",
    "    model = Sequential()  \n",
    "    model.add(GRU(100, return_sequences=True, input_shape=(x_train.shape[1], 1)))  \n",
    "    model.add(Dropout(0.3))  \n",
    "    model.add(LSTM(100, return_sequences=True))  \n",
    "    model.add(Dropout(0.3))  \n",
    "    model.add(GRU(70, return_sequences=False))  \n",
    "    model.add(Dropout(0.3))  \n",
    "    model.add(Dense(1))  \n",
    "    model.compile(optimizer='adam', loss='mean_squared_error')  \n",
    "    return model  \n",
    " \n",
    "model = create_model()  \n",
    "\n",
    "\n",
    "# Compile the model  \n",
    "model.compile(optimizer='adam', loss='mean_squared_error')  \n",
    "model.summary()"
   ]
  },
  {
   "cell_type": "markdown",
   "metadata": {},
   "source": [
    "### Model Training"
   ]
  },
  {
   "cell_type": "code",
   "execution_count": 23,
   "metadata": {},
   "outputs": [
    {
     "name": "stdout",
     "output_type": "stream",
     "text": [
      "Epoch 1/100\n",
      "215/215 [==============================] - 8s 17ms/step - loss: 0.0311 - val_loss: 0.0246 - lr: 0.0010\n",
      "Epoch 2/100\n",
      "215/215 [==============================] - 3s 13ms/step - loss: 0.0293 - val_loss: 0.0257 - lr: 0.0010\n",
      "Epoch 3/100\n",
      "215/215 [==============================] - 3s 13ms/step - loss: 0.0292 - val_loss: 0.0243 - lr: 0.0010\n",
      "Epoch 4/100\n",
      "215/215 [==============================] - 3s 14ms/step - loss: 0.0294 - val_loss: 0.0249 - lr: 0.0010\n",
      "Epoch 5/100\n",
      "215/215 [==============================] - 3s 13ms/step - loss: 0.0291 - val_loss: 0.0253 - lr: 0.0010\n",
      "Epoch 6/100\n",
      "215/215 [==============================] - 3s 14ms/step - loss: 0.0291 - val_loss: 0.0248 - lr: 0.0010\n",
      "Epoch 7/100\n",
      "215/215 [==============================] - 3s 13ms/step - loss: 0.0288 - val_loss: 0.0249 - lr: 0.0010\n",
      "Epoch 8/100\n",
      "215/215 [==============================] - 3s 15ms/step - loss: 0.0290 - val_loss: 0.0245 - lr: 0.0010\n",
      "Epoch 9/100\n",
      "215/215 [==============================] - 3s 15ms/step - loss: 0.0290 - val_loss: 0.0249 - lr: 0.0010\n",
      "Epoch 10/100\n",
      "215/215 [==============================] - 3s 15ms/step - loss: 0.0287 - val_loss: 0.0244 - lr: 0.0010\n",
      "Epoch 11/100\n",
      "215/215 [==============================] - 3s 15ms/step - loss: 0.0291 - val_loss: 0.0258 - lr: 0.0010\n",
      "Epoch 12/100\n",
      "215/215 [==============================] - 3s 15ms/step - loss: 0.0290 - val_loss: 0.0257 - lr: 0.0010\n",
      "Epoch 13/100\n",
      "215/215 [==============================] - 3s 16ms/step - loss: 0.0287 - val_loss: 0.0247 - lr: 0.0010\n",
      "Epoch 14/100\n",
      "215/215 [==============================] - 3s 16ms/step - loss: 0.0286 - val_loss: 0.0249 - lr: 5.0000e-04\n",
      "Epoch 15/100\n",
      "215/215 [==============================] - 3s 15ms/step - loss: 0.0284 - val_loss: 0.0247 - lr: 5.0000e-04\n",
      "Epoch 16/100\n",
      "215/215 [==============================] - 3s 16ms/step - loss: 0.0284 - val_loss: 0.0249 - lr: 5.0000e-04\n",
      "Epoch 17/100\n",
      "215/215 [==============================] - 3s 15ms/step - loss: 0.0285 - val_loss: 0.0252 - lr: 5.0000e-04\n",
      "Epoch 18/100\n",
      "215/215 [==============================] - 3s 16ms/step - loss: 0.0285 - val_loss: 0.0260 - lr: 5.0000e-04\n",
      "Epoch 19/100\n",
      "215/215 [==============================] - 4s 16ms/step - loss: 0.0286 - val_loss: 0.0252 - lr: 5.0000e-04\n",
      "Epoch 20/100\n",
      "215/215 [==============================] - 3s 15ms/step - loss: 0.0283 - val_loss: 0.0246 - lr: 5.0000e-04\n",
      "Epoch 21/100\n",
      "215/215 [==============================] - 3s 15ms/step - loss: 0.0284 - val_loss: 0.0248 - lr: 5.0000e-04\n",
      "Epoch 22/100\n",
      "215/215 [==============================] - 3s 15ms/step - loss: 0.0285 - val_loss: 0.0253 - lr: 5.0000e-04\n",
      "Epoch 23/100\n",
      "215/215 [==============================] - 3s 15ms/step - loss: 0.0284 - val_loss: 0.0249 - lr: 5.0000e-04\n",
      "Epoch 24/100\n",
      "215/215 [==============================] - 3s 15ms/step - loss: 0.0283 - val_loss: 0.0255 - lr: 2.5000e-04\n",
      "Epoch 25/100\n",
      "215/215 [==============================] - 3s 15ms/step - loss: 0.0283 - val_loss: 0.0251 - lr: 2.5000e-04\n",
      "Epoch 26/100\n",
      "215/215 [==============================] - 3s 15ms/step - loss: 0.0284 - val_loss: 0.0252 - lr: 2.5000e-04\n",
      "Epoch 27/100\n",
      "215/215 [==============================] - 3s 15ms/step - loss: 0.0282 - val_loss: 0.0254 - lr: 2.5000e-04\n",
      "Epoch 28/100\n",
      "215/215 [==============================] - 3s 16ms/step - loss: 0.0283 - val_loss: 0.0249 - lr: 2.5000e-04\n",
      "Epoch 29/100\n",
      "215/215 [==============================] - 3s 15ms/step - loss: 0.0282 - val_loss: 0.0260 - lr: 2.5000e-04\n",
      "Epoch 30/100\n",
      "215/215 [==============================] - 3s 15ms/step - loss: 0.0283 - val_loss: 0.0249 - lr: 2.5000e-04\n",
      "Epoch 31/100\n",
      "215/215 [==============================] - 3s 15ms/step - loss: 0.0283 - val_loss: 0.0247 - lr: 2.5000e-04\n",
      "Epoch 32/100\n",
      "215/215 [==============================] - 3s 15ms/step - loss: 0.0283 - val_loss: 0.0248 - lr: 2.5000e-04\n",
      "Epoch 33/100\n",
      "215/215 [==============================] - 3s 15ms/step - loss: 0.0283 - val_loss: 0.0252 - lr: 2.5000e-04\n",
      "Epoch 34/100\n",
      "215/215 [==============================] - 3s 15ms/step - loss: 0.0282 - val_loss: 0.0254 - lr: 1.2500e-04\n"
     ]
    }
   ],
   "source": [
    "# Early stopping and learning rate reduction  \n",
    "early_stopping = EarlyStopping(monitor='loss', patience=5, restore_best_weights=True)  \n",
    "reduce_lr = ReduceLROnPlateau(monitor='val_loss', factor=0.5, patience=10, min_lr=1e-6)  \n",
    "\n",
    "\n",
    "\n",
    "# Fit the model with callbacks  \n",
    "history = model.fit(x_train, y_train,  \n",
    "                    validation_split=0.2,  \n",
    "                    epochs=100, \n",
    "                    batch_size=32,  \n",
    "                    callbacks=[early_stopping, reduce_lr])  "
   ]
  },
  {
   "cell_type": "markdown",
   "metadata": {},
   "source": [
    "### Model Evaluation"
   ]
  },
  {
   "cell_type": "code",
   "execution_count": 24,
   "metadata": {},
   "outputs": [
    {
     "data": {
      "image/png": "[encoded data removed]",
      "text/plain": [
       "<Figure size 1000x600 with 1 Axes>"
      ]
     },
     "metadata": {},
     "output_type": "display_data"
    }
   ],
   "source": [
    "# Plot training and validation losses\n",
    "plt.figure(figsize=(10, 6))\n",
    "\n",
    "# Plot training loss\n",
    "plt.plot(history.history[\"loss\"], label=\"Training Loss\", color=\"blue\", linestyle=\"--\")\n",
    "# Plot validation loss\n",
    "plt.plot(history.history[\"val_loss\"], label=\"Validation Loss\", color=\"orange\", linestyle=\"-\")\n",
    "\n",
    "# Plot training mean absolute error (if present)\n",
    "if \"mean_absolute_error\" in history.history:\n",
    "    plt.plot(history.history[\"mean_absolute_error\"], label=\"Training MAE\", color=\"green\", linestyle=\"--\")\n",
    "# Plot validation mean absolute error (if present)\n",
    "if \"val_mean_absolute_error\" in history.history:\n",
    "    plt.plot(history.history[\"val_mean_absolute_error\"], label=\"Validation MAE\", color=\"red\", linestyle=\"-\")\n",
    "\n",
    "# Add legend, title, labels, and grid\n",
    "plt.legend(loc=\"upper right\")\n",
    "plt.title(\"Training and Validation Losses and Metrics\", fontsize=14)\n",
    "plt.xlabel(\"Epochs\", fontsize=12)\n",
    "plt.ylabel(\"Value\", fontsize=12)\n",
    "plt.grid(True, linestyle=\"--\", alpha=0.7)\n",
    "plt.tight_layout()\n",
    "plt.show()\n"
   ]
  },
  {
   "cell_type": "markdown",
   "metadata": {},
   "source": [
    "# Predection"
   ]
  },
  {
   "cell_type": "markdown",
   "metadata": {},
   "source": [
    "### Creating testing set"
   ]
  },
  {
   "cell_type": "code",
   "execution_count": 25,
   "metadata": {},
   "outputs": [],
   "source": [
    "# Creating a testing set with 60 time-steps and 1 output\n",
    "x_test = []\n",
    "y_test = []\n",
    "\n",
    "for i in range(60, len(test_data)):\n",
    "    x_test.append(test_data[i-7:i, 0])\n",
    "    y_test.append(test_data[i, 0])\n",
    "x_test, y_test = np.array(x_test), np.array(y_test)\n",
    "x_test = np.reshape(x_test, (x_test.shape[0], x_test.shape[1], 1))"
   ]
  },
  {
   "cell_type": "code",
   "execution_count": 26,
   "metadata": {},
   "outputs": [
    {
     "data": {
      "text/plain": [
       "((2822, 7, 1), (2822,))"
      ]
     },
     "execution_count": 26,
     "metadata": {},
     "output_type": "execute_result"
    }
   ],
   "source": [
    "x_test.shape , y_test.shape"
   ]
  },
  {
   "cell_type": "code",
   "execution_count": 27,
   "metadata": {},
   "outputs": [
    {
     "name": "stdout",
     "output_type": "stream",
     "text": [
      "89/89 [==============================] - 1s 3ms/step\n"
     ]
    },
    {
     "data": {
      "text/plain": [
       "(2822, 1)"
      ]
     },
     "execution_count": 27,
     "metadata": {},
     "output_type": "execute_result"
    }
   ],
   "source": [
    "#inverse y_test scaling\n",
    "predictions = model.predict(x_test)\n",
    "\n",
    "#inverse predictions scaling\n",
    "predictions = scaler.inverse_transform(predictions)\n",
    "predictions.shape"
   ]
  },
  {
   "cell_type": "markdown",
   "metadata": {},
   "source": [
    "### Root mean square error"
   ]
  },
  {
   "cell_type": "code",
   "execution_count": 28,
   "metadata": {},
   "outputs": [
    {
     "data": {
      "text/plain": [
       "2.56"
      ]
     },
     "execution_count": 28,
     "metadata": {},
     "output_type": "execute_result"
    }
   ],
   "source": [
    "#inverse y_test scaling\n",
    "y_test = scaler.inverse_transform([y_test])\n",
    "\n",
    "RMSE = np.sqrt(np.mean( y_test - predictions )**2).round(2)\n",
    "RMSE"
   ]
  },
  {
   "cell_type": "markdown",
   "metadata": {},
   "source": [
    "### Mean Absolute Error"
   ]
  },
  {
   "cell_type": "code",
   "execution_count": 42,
   "metadata": {},
   "outputs": [
    {
     "data": {
      "text/plain": [
       "79.21"
      ]
     },
     "execution_count": 42,
     "metadata": {},
     "output_type": "execute_result"
    }
   ],
   "source": [
    "MAE=np.mean(np.abs(y_test - predictions )).round(2)\n",
    "MAE"
   ]
  },
  {
   "cell_type": "code",
   "execution_count": 29,
   "metadata": {},
   "outputs": [
    {
     "data": {
      "text/html": [
       "<div>\n",
       "<style scoped>\n",
       "    .dataframe tbody tr th:only-of-type {\n",
       "        vertical-align: middle;\n",
       "    }\n",
       "\n",
       "    .dataframe tbody tr th {\n",
       "        vertical-align: top;\n",
       "    }\n",
       "\n",
       "    .dataframe thead th {\n",
       "        text-align: right;\n",
       "    }\n",
       "</style>\n",
       "<table border=\"1\" class=\"dataframe\">\n",
       "  <thead>\n",
       "    <tr style=\"text-align: right;\">\n",
       "      <th></th>\n",
       "      <th>Predictions</th>\n",
       "      <th>Actuals</th>\n",
       "    </tr>\n",
       "  </thead>\n",
       "  <tbody>\n",
       "    <tr>\n",
       "      <th>0</th>\n",
       "      <td>137.707092</td>\n",
       "      <td>0.0</td>\n",
       "    </tr>\n",
       "    <tr>\n",
       "      <th>1</th>\n",
       "      <td>126.277756</td>\n",
       "      <td>266.0</td>\n",
       "    </tr>\n",
       "    <tr>\n",
       "      <th>2</th>\n",
       "      <td>124.050568</td>\n",
       "      <td>91.0</td>\n",
       "    </tr>\n",
       "    <tr>\n",
       "      <th>3</th>\n",
       "      <td>127.120552</td>\n",
       "      <td>110.0</td>\n",
       "    </tr>\n",
       "    <tr>\n",
       "      <th>4</th>\n",
       "      <td>131.320206</td>\n",
       "      <td>141.0</td>\n",
       "    </tr>\n",
       "    <tr>\n",
       "      <th>...</th>\n",
       "      <td>...</td>\n",
       "      <td>...</td>\n",
       "    </tr>\n",
       "    <tr>\n",
       "      <th>2817</th>\n",
       "      <td>213.858200</td>\n",
       "      <td>134.0</td>\n",
       "    </tr>\n",
       "    <tr>\n",
       "      <th>2818</th>\n",
       "      <td>207.410522</td>\n",
       "      <td>378.0</td>\n",
       "    </tr>\n",
       "    <tr>\n",
       "      <th>2819</th>\n",
       "      <td>206.810623</td>\n",
       "      <td>151.0</td>\n",
       "    </tr>\n",
       "    <tr>\n",
       "      <th>2820</th>\n",
       "      <td>198.146683</td>\n",
       "      <td>248.0</td>\n",
       "    </tr>\n",
       "    <tr>\n",
       "      <th>2821</th>\n",
       "      <td>192.627380</td>\n",
       "      <td>259.0</td>\n",
       "    </tr>\n",
       "  </tbody>\n",
       "</table>\n",
       "<p>2822 rows × 2 columns</p>\n",
       "</div>"
      ],
      "text/plain": [
       "      Predictions  Actuals\n",
       "0      137.707092      0.0\n",
       "1      126.277756    266.0\n",
       "2      124.050568     91.0\n",
       "3      127.120552    110.0\n",
       "4      131.320206    141.0\n",
       "...           ...      ...\n",
       "2817   213.858200    134.0\n",
       "2818   207.410522    378.0\n",
       "2819   206.810623    151.0\n",
       "2820   198.146683    248.0\n",
       "2821   192.627380    259.0\n",
       "\n",
       "[2822 rows x 2 columns]"
      ]
     },
     "execution_count": 29,
     "metadata": {},
     "output_type": "execute_result"
    }
   ],
   "source": [
    "preds_acts = pd.DataFrame(data={'Predictions':predictions.flatten(), 'Actuals':y_test.flatten()})\n",
    "preds_acts"
   ]
  },
  {
   "cell_type": "markdown",
   "metadata": {},
   "source": [
    "### Visualize Predictions with The Data"
   ]
  },
  {
   "cell_type": "code",
   "execution_count": 30,
   "metadata": {},
   "outputs": [
    {
     "data": {
      "image/png": "[encoded data removed]",
      "text/plain": [
       "<Figure size 2000x1000 with 1 Axes>"
      ]
     },
     "metadata": {},
     "output_type": "display_data"
    }
   ],
   "source": [
    "\n",
    "plt.figure(figsize=(20, 10))\n",
    "plt.plot(preds_acts['Predictions'], label='Predictions')\n",
    "plt.plot(preds_acts['Actuals'], label='Actuals')\n",
    "\n",
    "# Adjust font size for legend, title, and labels\n",
    "plt.legend(fontsize=14)\n",
    "plt.title('Predictions vs Actuals', fontsize=16)\n",
    "plt.xlabel('Time', fontsize=14)\n",
    "plt.ylabel('Values', fontsize=14)\n",
    "\n",
    "plt.show()"
   ]
  },
  {
   "cell_type": "markdown",
   "metadata": {},
   "source": [
    "# Forecast Next 30 Days"
   ]
  },
  {
   "cell_type": "code",
   "execution_count": 31,
   "metadata": {},
   "outputs": [],
   "source": [
    "from datetime import timedelta"
   ]
  },
  {
   "cell_type": "code",
   "execution_count": 32,
   "metadata": {},
   "outputs": [],
   "source": [
    "def insert_end(Xin, new_input):\n",
    "    timestep = 7\n",
    "    for i in range(timestep - 1):\n",
    "        Xin[:, i, :] = Xin[:, i+1, :]\n",
    "    Xin[:, timestep - 1, :] = new_input\n",
    "    return Xin"
   ]
  },
  {
   "cell_type": "code",
   "execution_count": 33,
   "metadata": {},
   "outputs": [
    {
     "name": "stdout",
     "output_type": "stream",
     "text": [
      "1/1 [==============================] - 0s 20ms/step\n",
      "[0.4046794]\n",
      "1/1 [==============================] - 0s 21ms/step\n",
      "[0.4046794, 0.39653313]\n",
      "1/1 [==============================] - 0s 20ms/step\n",
      "[0.4046794, 0.39653313, 0.3902324]\n",
      "1/1 [==============================] - 0s 19ms/step\n",
      "[0.4046794, 0.39653313, 0.3902324, 0.38355213]\n",
      "1/1 [==============================] - 0s 19ms/step\n",
      "[0.4046794, 0.39653313, 0.3902324, 0.38355213, 0.3838994]\n",
      "1/1 [==============================] - 0s 22ms/step\n",
      "[0.4046794, 0.39653313, 0.3902324, 0.38355213, 0.3838994, 0.37348253]\n",
      "1/1 [==============================] - 0s 22ms/step\n",
      "[0.4046794, 0.39653313, 0.3902324, 0.38355213, 0.3838994, 0.37348253, 0.3736498]\n",
      "1/1 [==============================] - 0s 20ms/step\n",
      "[0.4046794, 0.39653313, 0.3902324, 0.38355213, 0.3838994, 0.37348253, 0.3736498, 0.36818507]\n",
      "1/1 [==============================] - 0s 20ms/step\n",
      "[0.4046794, 0.39653313, 0.3902324, 0.38355213, 0.3838994, 0.37348253, 0.3736498, 0.36818507, 0.3661255]\n",
      "1/1 [==============================] - 0s 20ms/step\n",
      "[0.4046794, 0.39653313, 0.3902324, 0.38355213, 0.3838994, 0.37348253, 0.3736498, 0.36818507, 0.3661255, 0.36433434]\n",
      "1/1 [==============================] - 0s 21ms/step\n",
      "[0.4046794, 0.39653313, 0.3902324, 0.38355213, 0.3838994, 0.37348253, 0.3736498, 0.36818507, 0.3661255, 0.36433434, 0.36279726]\n",
      "1/1 [==============================] - 0s 20ms/step\n",
      "[0.4046794, 0.39653313, 0.3902324, 0.38355213, 0.3838994, 0.37348253, 0.3736498, 0.36818507, 0.3661255, 0.36433434, 0.36279726, 0.36153838]\n",
      "1/1 [==============================] - 0s 22ms/step\n",
      "[0.4046794, 0.39653313, 0.3902324, 0.38355213, 0.3838994, 0.37348253, 0.3736498, 0.36818507, 0.3661255, 0.36433434, 0.36279726, 0.36153838, 0.3603561]\n",
      "1/1 [==============================] - 0s 20ms/step\n",
      "[0.4046794, 0.39653313, 0.3902324, 0.38355213, 0.3838994, 0.37348253, 0.3736498, 0.36818507, 0.3661255, 0.36433434, 0.36279726, 0.36153838, 0.3603561, 0.359556]\n",
      "1/1 [==============================] - 0s 21ms/step\n",
      "[0.4046794, 0.39653313, 0.3902324, 0.38355213, 0.3838994, 0.37348253, 0.3736498, 0.36818507, 0.3661255, 0.36433434, 0.36279726, 0.36153838, 0.3603561, 0.359556, 0.35879603]\n",
      "1/1 [==============================] - 0s 19ms/step\n",
      "[0.4046794, 0.39653313, 0.3902324, 0.38355213, 0.3838994, 0.37348253, 0.3736498, 0.36818507, 0.3661255, 0.36433434, 0.36279726, 0.36153838, 0.3603561, 0.359556, 0.35879603, 0.3582453]\n",
      "1/1 [==============================] - 0s 21ms/step\n",
      "[0.4046794, 0.39653313, 0.3902324, 0.38355213, 0.3838994, 0.37348253, 0.3736498, 0.36818507, 0.3661255, 0.36433434, 0.36279726, 0.36153838, 0.3603561, 0.359556, 0.35879603, 0.3582453, 0.35778433]\n",
      "1/1 [==============================] - 0s 20ms/step\n",
      "[0.4046794, 0.39653313, 0.3902324, 0.38355213, 0.3838994, 0.37348253, 0.3736498, 0.36818507, 0.3661255, 0.36433434, 0.36279726, 0.36153838, 0.3603561, 0.359556, 0.35879603, 0.3582453, 0.35778433, 0.3574034]\n",
      "1/1 [==============================] - 0s 21ms/step\n",
      "[0.4046794, 0.39653313, 0.3902324, 0.38355213, 0.3838994, 0.37348253, 0.3736498, 0.36818507, 0.3661255, 0.36433434, 0.36279726, 0.36153838, 0.3603561, 0.359556, 0.35879603, 0.3582453, 0.35778433, 0.3574034, 0.35709122]\n",
      "1/1 [==============================] - 0s 20ms/step\n",
      "[0.4046794, 0.39653313, 0.3902324, 0.38355213, 0.3838994, 0.37348253, 0.3736498, 0.36818507, 0.3661255, 0.36433434, 0.36279726, 0.36153838, 0.3603561, 0.359556, 0.35879603, 0.3582453, 0.35778433, 0.3574034, 0.35709122, 0.3568356]\n",
      "1/1 [==============================] - 0s 22ms/step\n",
      "[0.4046794, 0.39653313, 0.3902324, 0.38355213, 0.3838994, 0.37348253, 0.3736498, 0.36818507, 0.3661255, 0.36433434, 0.36279726, 0.36153838, 0.3603561, 0.359556, 0.35879603, 0.3582453, 0.35778433, 0.3574034, 0.35709122, 0.3568356, 0.35663056]\n",
      "1/1 [==============================] - 0s 21ms/step\n",
      "[0.4046794, 0.39653313, 0.3902324, 0.38355213, 0.3838994, 0.37348253, 0.3736498, 0.36818507, 0.3661255, 0.36433434, 0.36279726, 0.36153838, 0.3603561, 0.359556, 0.35879603, 0.3582453, 0.35778433, 0.3574034, 0.35709122, 0.3568356, 0.35663056, 0.35646155]\n",
      "1/1 [==============================] - 0s 23ms/step\n",
      "[0.4046794, 0.39653313, 0.3902324, 0.38355213, 0.3838994, 0.37348253, 0.3736498, 0.36818507, 0.3661255, 0.36433434, 0.36279726, 0.36153838, 0.3603561, 0.359556, 0.35879603, 0.3582453, 0.35778433, 0.3574034, 0.35709122, 0.3568356, 0.35663056, 0.35646155, 0.35632515]\n",
      "1/1 [==============================] - 0s 24ms/step\n",
      "[0.4046794, 0.39653313, 0.3902324, 0.38355213, 0.3838994, 0.37348253, 0.3736498, 0.36818507, 0.3661255, 0.36433434, 0.36279726, 0.36153838, 0.3603561, 0.359556, 0.35879603, 0.3582453, 0.35778433, 0.3574034, 0.35709122, 0.3568356, 0.35663056, 0.35646155, 0.35632515, 0.3562133]\n",
      "1/1 [==============================] - 0s 21ms/step\n",
      "[0.4046794, 0.39653313, 0.3902324, 0.38355213, 0.3838994, 0.37348253, 0.3736498, 0.36818507, 0.3661255, 0.36433434, 0.36279726, 0.36153838, 0.3603561, 0.359556, 0.35879603, 0.3582453, 0.35778433, 0.3574034, 0.35709122, 0.3568356, 0.35663056, 0.35646155, 0.35632515, 0.3562133, 0.3561219]\n",
      "1/1 [==============================] - 0s 48ms/step\n",
      "[0.4046794, 0.39653313, 0.3902324, 0.38355213, 0.3838994, 0.37348253, 0.3736498, 0.36818507, 0.3661255, 0.36433434, 0.36279726, 0.36153838, 0.3603561, 0.359556, 0.35879603, 0.3582453, 0.35778433, 0.3574034, 0.35709122, 0.3568356, 0.35663056, 0.35646155, 0.35632515, 0.3562133, 0.3561219, 0.3560474]\n",
      "1/1 [==============================] - 0s 27ms/step\n",
      "[0.4046794, 0.39653313, 0.3902324, 0.38355213, 0.3838994, 0.37348253, 0.3736498, 0.36818507, 0.3661255, 0.36433434, 0.36279726, 0.36153838, 0.3603561, 0.359556, 0.35879603, 0.3582453, 0.35778433, 0.3574034, 0.35709122, 0.3568356, 0.35663056, 0.35646155, 0.35632515, 0.3562133, 0.3561219, 0.3560474, 0.35598665]\n",
      "1/1 [==============================] - 0s 26ms/step\n",
      "[0.4046794, 0.39653313, 0.3902324, 0.38355213, 0.3838994, 0.37348253, 0.3736498, 0.36818507, 0.3661255, 0.36433434, 0.36279726, 0.36153838, 0.3603561, 0.359556, 0.35879603, 0.3582453, 0.35778433, 0.3574034, 0.35709122, 0.3568356, 0.35663056, 0.35646155, 0.35632515, 0.3562133, 0.3561219, 0.3560474, 0.35598665, 0.35593715]\n",
      "1/1 [==============================] - 0s 23ms/step\n",
      "[0.4046794, 0.39653313, 0.3902324, 0.38355213, 0.3838994, 0.37348253, 0.3736498, 0.36818507, 0.3661255, 0.36433434, 0.36279726, 0.36153838, 0.3603561, 0.359556, 0.35879603, 0.3582453, 0.35778433, 0.3574034, 0.35709122, 0.3568356, 0.35663056, 0.35646155, 0.35632515, 0.3562133, 0.3561219, 0.3560474, 0.35598665, 0.35593715, 0.35589677]\n",
      "1/1 [==============================] - 0s 22ms/step\n",
      "[0.4046794, 0.39653313, 0.3902324, 0.38355213, 0.3838994, 0.37348253, 0.3736498, 0.36818507, 0.3661255, 0.36433434, 0.36279726, 0.36153838, 0.3603561, 0.359556, 0.35879603, 0.3582453, 0.35778433, 0.3574034, 0.35709122, 0.3568356, 0.35663056, 0.35646155, 0.35632515, 0.3562133, 0.3561219, 0.3560474, 0.35598665, 0.35593715, 0.35589677, 0.3558638]\n"
     ]
    }
   ],
   "source": [
    "future = 30\n",
    "forcast = []\n",
    "Xin = x_test[-1 :, :, :]\n",
    "time = []\n",
    "for i in range(0, future):\n",
    "    out = model.predict(Xin, batch_size=5)\n",
    "    forcast.append(out[0, 0]) \n",
    "    print(forcast)\n",
    "    Xin = insert_end(Xin, out[0, 0]) \n",
    "    time.append(pd.to_datetime(df.index[-1]) + timedelta(days=i))"
   ]
  },
  {
   "cell_type": "code",
   "execution_count": 34,
   "metadata": {},
   "outputs": [
    {
     "data": {
      "text/plain": [
       "[Timestamp('1970-01-01 00:00:00.000029329'),\n",
       " Timestamp('1970-01-02 00:00:00.000029329'),\n",
       " Timestamp('1970-01-03 00:00:00.000029329'),\n",
       " Timestamp('1970-01-04 00:00:00.000029329'),\n",
       " Timestamp('1970-01-05 00:00:00.000029329'),\n",
       " Timestamp('1970-01-06 00:00:00.000029329'),\n",
       " Timestamp('1970-01-07 00:00:00.000029329'),\n",
       " Timestamp('1970-01-08 00:00:00.000029329'),\n",
       " Timestamp('1970-01-09 00:00:00.000029329'),\n",
       " Timestamp('1970-01-10 00:00:00.000029329'),\n",
       " Timestamp('1970-01-11 00:00:00.000029329'),\n",
       " Timestamp('1970-01-12 00:00:00.000029329'),\n",
       " Timestamp('1970-01-13 00:00:00.000029329'),\n",
       " Timestamp('1970-01-14 00:00:00.000029329'),\n",
       " Timestamp('1970-01-15 00:00:00.000029329'),\n",
       " Timestamp('1970-01-16 00:00:00.000029329'),\n",
       " Timestamp('1970-01-17 00:00:00.000029329'),\n",
       " Timestamp('1970-01-18 00:00:00.000029329'),\n",
       " Timestamp('1970-01-19 00:00:00.000029329'),\n",
       " Timestamp('1970-01-20 00:00:00.000029329'),\n",
       " Timestamp('1970-01-21 00:00:00.000029329'),\n",
       " Timestamp('1970-01-22 00:00:00.000029329'),\n",
       " Timestamp('1970-01-23 00:00:00.000029329'),\n",
       " Timestamp('1970-01-24 00:00:00.000029329'),\n",
       " Timestamp('1970-01-25 00:00:00.000029329'),\n",
       " Timestamp('1970-01-26 00:00:00.000029329'),\n",
       " Timestamp('1970-01-27 00:00:00.000029329'),\n",
       " Timestamp('1970-01-28 00:00:00.000029329'),\n",
       " Timestamp('1970-01-29 00:00:00.000029329'),\n",
       " Timestamp('1970-01-30 00:00:00.000029329')]"
      ]
     },
     "execution_count": 34,
     "metadata": {},
     "output_type": "execute_result"
    }
   ],
   "source": [
    "time"
   ]
  },
  {
   "cell_type": "markdown",
   "metadata": {},
   "source": [
    "### Create forecasted dataframe"
   ]
  },
  {
   "cell_type": "code",
   "execution_count": 35,
   "metadata": {},
   "outputs": [],
   "source": [
    "forcasted_output = np.asanyarray(forcast)   \n",
    "forcasted_output = forcasted_output.reshape(-1, 1) \n",
    "forcasted_output = scaler.inverse_transform(forcasted_output) "
   ]
  },
  {
   "cell_type": "code",
   "execution_count": 36,
   "metadata": {},
   "outputs": [],
   "source": [
    "forcasted_output = pd.DataFrame(forcasted_output)\n",
    "date = pd.DataFrame(time)\n",
    "df_result = pd.concat([date,forcasted_output], axis=1)\n",
    "df_result.columns = \"Date\", \"Forecasted\""
   ]
  },
  {
   "cell_type": "code",
   "execution_count": 37,
   "metadata": {},
   "outputs": [
    {
     "data": {
      "text/html": [
       "<div>\n",
       "<style scoped>\n",
       "    .dataframe tbody tr th:only-of-type {\n",
       "        vertical-align: middle;\n",
       "    }\n",
       "\n",
       "    .dataframe tbody tr th {\n",
       "        vertical-align: top;\n",
       "    }\n",
       "\n",
       "    .dataframe thead th {\n",
       "        text-align: right;\n",
       "    }\n",
       "</style>\n",
       "<table border=\"1\" class=\"dataframe\">\n",
       "  <thead>\n",
       "    <tr style=\"text-align: right;\">\n",
       "      <th></th>\n",
       "      <th>Date</th>\n",
       "      <th>Forecasted</th>\n",
       "    </tr>\n",
       "  </thead>\n",
       "  <tbody>\n",
       "    <tr>\n",
       "      <th>0</th>\n",
       "      <td>1970-01-01 00:00:00.000029329</td>\n",
       "      <td>192.627396</td>\n",
       "    </tr>\n",
       "    <tr>\n",
       "      <th>1</th>\n",
       "      <td>1970-01-02 00:00:00.000029329</td>\n",
       "      <td>188.749771</td>\n",
       "    </tr>\n",
       "    <tr>\n",
       "      <th>2</th>\n",
       "      <td>1970-01-03 00:00:00.000029329</td>\n",
       "      <td>185.750626</td>\n",
       "    </tr>\n",
       "    <tr>\n",
       "      <th>3</th>\n",
       "      <td>1970-01-04 00:00:00.000029329</td>\n",
       "      <td>182.570816</td>\n",
       "    </tr>\n",
       "    <tr>\n",
       "      <th>4</th>\n",
       "      <td>1970-01-05 00:00:00.000029329</td>\n",
       "      <td>182.736115</td>\n",
       "    </tr>\n",
       "    <tr>\n",
       "      <th>5</th>\n",
       "      <td>1970-01-06 00:00:00.000029329</td>\n",
       "      <td>177.777679</td>\n",
       "    </tr>\n",
       "    <tr>\n",
       "      <th>6</th>\n",
       "      <td>1970-01-07 00:00:00.000029329</td>\n",
       "      <td>177.857315</td>\n",
       "    </tr>\n",
       "    <tr>\n",
       "      <th>7</th>\n",
       "      <td>1970-01-08 00:00:00.000029329</td>\n",
       "      <td>175.256088</td>\n",
       "    </tr>\n",
       "    <tr>\n",
       "      <th>8</th>\n",
       "      <td>1970-01-09 00:00:00.000029329</td>\n",
       "      <td>174.275742</td>\n",
       "    </tr>\n",
       "    <tr>\n",
       "      <th>9</th>\n",
       "      <td>1970-01-10 00:00:00.000029329</td>\n",
       "      <td>173.423141</td>\n",
       "    </tr>\n",
       "    <tr>\n",
       "      <th>10</th>\n",
       "      <td>1970-01-11 00:00:00.000029329</td>\n",
       "      <td>172.691498</td>\n",
       "    </tr>\n",
       "    <tr>\n",
       "      <th>11</th>\n",
       "      <td>1970-01-12 00:00:00.000029329</td>\n",
       "      <td>172.092270</td>\n",
       "    </tr>\n",
       "    <tr>\n",
       "      <th>12</th>\n",
       "      <td>1970-01-13 00:00:00.000029329</td>\n",
       "      <td>171.529495</td>\n",
       "    </tr>\n",
       "    <tr>\n",
       "      <th>13</th>\n",
       "      <td>1970-01-14 00:00:00.000029329</td>\n",
       "      <td>171.148651</td>\n",
       "    </tr>\n",
       "    <tr>\n",
       "      <th>14</th>\n",
       "      <td>1970-01-15 00:00:00.000029329</td>\n",
       "      <td>170.786911</td>\n",
       "    </tr>\n",
       "    <tr>\n",
       "      <th>15</th>\n",
       "      <td>1970-01-16 00:00:00.000029329</td>\n",
       "      <td>170.524765</td>\n",
       "    </tr>\n",
       "    <tr>\n",
       "      <th>16</th>\n",
       "      <td>1970-01-17 00:00:00.000029329</td>\n",
       "      <td>170.305344</td>\n",
       "    </tr>\n",
       "    <tr>\n",
       "      <th>17</th>\n",
       "      <td>1970-01-18 00:00:00.000029329</td>\n",
       "      <td>170.124023</td>\n",
       "    </tr>\n",
       "    <tr>\n",
       "      <th>18</th>\n",
       "      <td>1970-01-19 00:00:00.000029329</td>\n",
       "      <td>169.975418</td>\n",
       "    </tr>\n",
       "    <tr>\n",
       "      <th>19</th>\n",
       "      <td>1970-01-20 00:00:00.000029329</td>\n",
       "      <td>169.853745</td>\n",
       "    </tr>\n",
       "    <tr>\n",
       "      <th>20</th>\n",
       "      <td>1970-01-21 00:00:00.000029329</td>\n",
       "      <td>169.756149</td>\n",
       "    </tr>\n",
       "    <tr>\n",
       "      <th>21</th>\n",
       "      <td>1970-01-22 00:00:00.000029329</td>\n",
       "      <td>169.675705</td>\n",
       "    </tr>\n",
       "    <tr>\n",
       "      <th>22</th>\n",
       "      <td>1970-01-23 00:00:00.000029329</td>\n",
       "      <td>169.610779</td>\n",
       "    </tr>\n",
       "    <tr>\n",
       "      <th>23</th>\n",
       "      <td>1970-01-24 00:00:00.000029329</td>\n",
       "      <td>169.557526</td>\n",
       "    </tr>\n",
       "    <tr>\n",
       "      <th>24</th>\n",
       "      <td>1970-01-25 00:00:00.000029329</td>\n",
       "      <td>169.514023</td>\n",
       "    </tr>\n",
       "    <tr>\n",
       "      <th>25</th>\n",
       "      <td>1970-01-26 00:00:00.000029329</td>\n",
       "      <td>169.478561</td>\n",
       "    </tr>\n",
       "    <tr>\n",
       "      <th>26</th>\n",
       "      <td>1970-01-27 00:00:00.000029329</td>\n",
       "      <td>169.449646</td>\n",
       "    </tr>\n",
       "    <tr>\n",
       "      <th>27</th>\n",
       "      <td>1970-01-28 00:00:00.000029329</td>\n",
       "      <td>169.426086</td>\n",
       "    </tr>\n",
       "    <tr>\n",
       "      <th>28</th>\n",
       "      <td>1970-01-29 00:00:00.000029329</td>\n",
       "      <td>169.406860</td>\n",
       "    </tr>\n",
       "    <tr>\n",
       "      <th>29</th>\n",
       "      <td>1970-01-30 00:00:00.000029329</td>\n",
       "      <td>169.391174</td>\n",
       "    </tr>\n",
       "  </tbody>\n",
       "</table>\n",
       "</div>"
      ],
      "text/plain": [
       "                            Date  Forecasted\n",
       "0  1970-01-01 00:00:00.000029329  192.627396\n",
       "1  1970-01-02 00:00:00.000029329  188.749771\n",
       "2  1970-01-03 00:00:00.000029329  185.750626\n",
       "3  1970-01-04 00:00:00.000029329  182.570816\n",
       "4  1970-01-05 00:00:00.000029329  182.736115\n",
       "5  1970-01-06 00:00:00.000029329  177.777679\n",
       "6  1970-01-07 00:00:00.000029329  177.857315\n",
       "7  1970-01-08 00:00:00.000029329  175.256088\n",
       "8  1970-01-09 00:00:00.000029329  174.275742\n",
       "9  1970-01-10 00:00:00.000029329  173.423141\n",
       "10 1970-01-11 00:00:00.000029329  172.691498\n",
       "11 1970-01-12 00:00:00.000029329  172.092270\n",
       "12 1970-01-13 00:00:00.000029329  171.529495\n",
       "13 1970-01-14 00:00:00.000029329  171.148651\n",
       "14 1970-01-15 00:00:00.000029329  170.786911\n",
       "15 1970-01-16 00:00:00.000029329  170.524765\n",
       "16 1970-01-17 00:00:00.000029329  170.305344\n",
       "17 1970-01-18 00:00:00.000029329  170.124023\n",
       "18 1970-01-19 00:00:00.000029329  169.975418\n",
       "19 1970-01-20 00:00:00.000029329  169.853745\n",
       "20 1970-01-21 00:00:00.000029329  169.756149\n",
       "21 1970-01-22 00:00:00.000029329  169.675705\n",
       "22 1970-01-23 00:00:00.000029329  169.610779\n",
       "23 1970-01-24 00:00:00.000029329  169.557526\n",
       "24 1970-01-25 00:00:00.000029329  169.514023\n",
       "25 1970-01-26 00:00:00.000029329  169.478561\n",
       "26 1970-01-27 00:00:00.000029329  169.449646\n",
       "27 1970-01-28 00:00:00.000029329  169.426086\n",
       "28 1970-01-29 00:00:00.000029329  169.406860\n",
       "29 1970-01-30 00:00:00.000029329  169.391174"
      ]
     },
     "execution_count": 37,
     "metadata": {},
     "output_type": "execute_result"
    }
   ],
   "source": [
    "df_result"
   ]
  },
  {
   "cell_type": "code",
   "execution_count": null,
   "metadata": {},
   "outputs": [],
   "source": []
  }
 ],
 "metadata": {
  "kernelspec": {
   "display_name": "Python 3",
   "language": "python",
   "name": "python3"
  },
  "language_info": {
   "codemirror_mode": {
    "name": "ipython",
    "version": 3
   },
   "file_extension": ".py",
   "mimetype": "text/x-python",
   "name": "python",
   "nbconvert_exporter": "python",
   "pygments_lexer": "ipython3",
   "version": "3.10.0"
  }
 },
 "nbformat": 4,
 "nbformat_minor": 2
}
